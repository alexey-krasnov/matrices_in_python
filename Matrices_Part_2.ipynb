{
 "cells": [
  {
   "cell_type": "markdown",
   "id": "229d88ee-054d-4d3f-be21-0d4b59a1d7a3",
   "metadata": {},
   "source": [
    "# Part 2: This Notebook provides Python code snippets that exercise the matrix DETERMINANT properties.\n",
    "\n",
    "## This will utilize NumPy to handle matrix operations effectively"
   ]
  },
  {
   "cell_type": "code",
   "id": "3dc2c3ad-df55-4f5e-a7d9-a1fa86f22c2c",
   "metadata": {
    "ExecuteTime": {
     "end_time": "2025-06-16T09:03:21.114886Z",
     "start_time": "2025-06-16T09:03:21.003398Z"
    }
   },
   "source": [
    "import numpy as np"
   ],
   "outputs": [],
   "execution_count": 1
  },
  {
   "metadata": {},
   "cell_type": "markdown",
   "source": "# 1. Helping function to display a matrix for better readability and calculate determinant manually",
   "id": "c49fe9c3b7311f62"
  },
  {
   "metadata": {
    "ExecuteTime": {
     "end_time": "2025-06-16T09:08:29.834854Z",
     "start_time": "2025-06-16T09:08:29.832379Z"
    }
   },
   "cell_type": "code",
   "source": [
    "def display_matrix(title, matrix):\n",
    "    print(f\"{title}:\\n{np.array(matrix)}\\n\")\n",
    "\n",
    "def determinant_manual(matrix):\n",
    "    # Unpack elements\n",
    "    a1, b1, c1 = matrix[0]\n",
    "    a2, b2, c2 = matrix[1]\n",
    "    a3, b3, c3 = matrix[2]\n",
    "\n",
    "    return (\n",
    "        a1 * b2 * c3 +\n",
    "        b1 * c2 * a3 +\n",
    "        c1 * a2 * b3 -\n",
    "        c1 * b2 * a3 -\n",
    "        b1 * a2 * c3 -\n",
    "        a1 * c2 * b3\n",
    "    )"
   ],
   "id": "eb97a077aecae0ff",
   "outputs": [],
   "execution_count": 3
  },
  {
   "metadata": {},
   "cell_type": "markdown",
   "source": "## Initial matrix",
   "id": "c4063e8ad4efa6d8"
  },
  {
   "metadata": {
    "ExecuteTime": {
     "end_time": "2025-06-16T09:08:52.480728Z",
     "start_time": "2025-06-16T09:08:52.478018Z"
    }
   },
   "cell_type": "code",
   "source": [
    "A = np.array([\n",
    "    [2, 1, 2],\n",
    "    [3, 3, 5],\n",
    "    [1, 0, 1]\n",
    "])\n",
    "\n",
    "display_matrix(\"Original Matrix A\", A)"
   ],
   "id": "572dbc347bc985e7",
   "outputs": [
    {
     "name": "stdout",
     "output_type": "stream",
     "text": [
      "Original Matrix A:\n",
      "[[2 1 2]\n",
      " [3 3 5]\n",
      " [1 0 1]]\n",
      "\n"
     ]
    }
   ],
   "execution_count": 5
  },
  {
   "metadata": {},
   "cell_type": "markdown",
   "source": "## Calculate determinant manually and compare with NumPy's built-in function",
   "id": "4e5ce21798d341f3"
  },
  {
   "metadata": {
    "ExecuteTime": {
     "end_time": "2025-06-16T09:10:24.161190Z",
     "start_time": "2025-06-16T09:10:24.158498Z"
    }
   },
   "cell_type": "code",
   "source": [
    "# Manually calculated determinant\n",
    "print(\"Manual Determinant using formula (2):\", determinant_manual(A))\n",
    "\n",
    "# Use NumPy's built-in function\n",
    "print(\"NumPy Determinant:\", round(np.linalg.det(A)))\n"
   ],
   "id": "8225a1514f998b6a",
   "outputs": [
    {
     "name": "stdout",
     "output_type": "stream",
     "text": [
      "Manual Determinant using formula (2): 2\n",
      "NumPy Determinant: 2\n"
     ]
    }
   ],
   "execution_count": 7
  },
  {
   "metadata": {},
   "cell_type": "markdown",
   "source": "# 2. Properties of determinant",
   "id": "1e3b95893c0b9e74"
  },
  {
   "metadata": {},
   "cell_type": "markdown",
   "source": "## Property 1: Transpose does not change determinant",
   "id": "2b08835518c5697c"
  },
  {
   "metadata": {
    "ExecuteTime": {
     "end_time": "2025-06-16T09:11:31.712604Z",
     "start_time": "2025-06-16T09:11:31.709982Z"
    }
   },
   "cell_type": "code",
   "source": [
    "print(\"\\nProperty 1: det(A) = det(A.T)\")\n",
    "print(\"det(A):\", round(np.linalg.det(A)))\n",
    "print(\"det(A.T):\", round(np.linalg.det(A.T)))\n"
   ],
   "id": "f4e232805c29df7",
   "outputs": [
    {
     "name": "stdout",
     "output_type": "stream",
     "text": [
      "\n",
      "Property 1: det(A) = det(A.T)\n",
      "det(A): 2\n",
      "det(A.T): 2\n"
     ]
    }
   ],
   "execution_count": 8
  },
  {
   "metadata": {},
   "cell_type": "markdown",
   "source": "## Property 2: Swapping rows/columns multiplies determinant by -1",
   "id": "a1790e3dc908d792"
  },
  {
   "metadata": {
    "ExecuteTime": {
     "end_time": "2025-06-16T09:12:12.966755Z",
     "start_time": "2025-06-16T09:12:12.963713Z"
    }
   },
   "cell_type": "code",
   "source": [
    "B = A.copy()\n",
    "B[[0, 1]] = B[[1, 0]]  # Swap first and second rows\n",
    "print(\"\\nProperty 2: Row swap changes sign\")\n",
    "print(\"Original det(A):\", round(np.linalg.det(A)))\n",
    "print(\"Swapped rows det(B):\", round(np.linalg.det(B)), \"Expected:\", -round(np.linalg.det(A)))\n"
   ],
   "id": "b2841d8b5cda9a9d",
   "outputs": [
    {
     "name": "stdout",
     "output_type": "stream",
     "text": [
      "\n",
      "Property 2: Row swap changes sign\n",
      "Original det(A): 2\n",
      "Swapped rows det(B): -2 Expected: -2\n"
     ]
    }
   ],
   "execution_count": 9
  },
  {
   "metadata": {},
   "cell_type": "markdown",
   "source": "## Property 3: Duplicate rows or columns → det = 0",
   "id": "b9140d6147ebd003"
  },
  {
   "metadata": {
    "ExecuteTime": {
     "end_time": "2025-06-16T09:12:40.678401Z",
     "start_time": "2025-06-16T09:12:40.675101Z"
    }
   },
   "cell_type": "code",
   "source": [
    "C = np.array([\n",
    "    [2, 2, 7],\n",
    "    [3, 3, 5],\n",
    "    [4, 4, 1]\n",
    "])\n",
    "print(\"\\nProperty 3: Duplicate columns → det = 0\")\n",
    "print(\"Matrix:\\n\", C)\n",
    "print(\"Determinant:\", round(np.linalg.det(C)))\n"
   ],
   "id": "52b5c9925f291dae",
   "outputs": [
    {
     "name": "stdout",
     "output_type": "stream",
     "text": [
      "\n",
      "Property 3: Duplicate columns → det = 0\n",
      "Matrix:\n",
      " [[2 2 7]\n",
      " [3 3 5]\n",
      " [4 4 1]]\n",
      "Determinant: 0\n"
     ]
    }
   ],
   "execution_count": 10
  },
  {
   "metadata": {},
   "cell_type": "markdown",
   "source": "## Property 4: Scalar multiple of a row/column scales det",
   "id": "dd2d41354a1d23d6"
  },
  {
   "metadata": {
    "ExecuteTime": {
     "end_time": "2025-06-16T09:12:58.415339Z",
     "start_time": "2025-06-16T09:12:58.412040Z"
    }
   },
   "cell_type": "code",
   "source": [
    "λ = 5\n",
    "D = A.copy()\n",
    "D[:, 0] = λ * D[:, 0]  # Multiply first column by λ\n",
    "print(f\"\\nProperty 4: Multiply column by λ={λ}\")\n",
    "print(\"det(λ*A_column):\", round(np.linalg.det(D)))\n",
    "print(\"λ * det(A):\", round(λ * np.linalg.det(A)))\n"
   ],
   "id": "6061b86b7daa214f",
   "outputs": [
    {
     "name": "stdout",
     "output_type": "stream",
     "text": [
      "\n",
      "Property 4: Multiply column by λ=5\n",
      "det(λ*A_column): 10\n",
      "λ * det(A): 10\n"
     ]
    }
   ],
   "execution_count": 11
  },
  {
   "metadata": {},
   "cell_type": "markdown",
   "source": "## Property 5: Zero row or column → det = 0",
   "id": "2eb81780de1d9796"
  },
  {
   "metadata": {
    "ExecuteTime": {
     "end_time": "2025-06-16T09:13:14.406503Z",
     "start_time": "2025-06-16T09:13:14.403757Z"
    }
   },
   "cell_type": "code",
   "source": [
    "E = np.array([\n",
    "    [0, 1, 2],\n",
    "    [0, 3, 5],\n",
    "    [0, 0, 1]\n",
    "])\n",
    "print(\"\\nProperty 5: Zero column → det = 0\")\n",
    "print(\"Determinant:\", round(np.linalg.det(E)))\n"
   ],
   "id": "6f8526b707068231",
   "outputs": [
    {
     "name": "stdout",
     "output_type": "stream",
     "text": [
      "\n",
      "Property 5: Zero column → det = 0\n",
      "Determinant: 0\n"
     ]
    }
   ],
   "execution_count": 12
  },
  {
   "metadata": {},
   "cell_type": "markdown",
   "source": "## Property 6: Proportional rows/columns → det = 0",
   "id": "e689b74472204740"
  },
  {
   "metadata": {
    "ExecuteTime": {
     "end_time": "2025-06-16T09:18:15.050912Z",
     "start_time": "2025-06-16T09:18:15.048288Z"
    }
   },
   "cell_type": "code",
   "source": [
    "F = np.array([\n",
    "    [2, 4, 7],\n",
    "    [3, 6, 5],\n",
    "    [4, 8, 1]\n",
    "])\n",
    "print(\"\\nProperty 6: Proportional columns → det = 0\")\n",
    "print(\"Determinant:\", round(np.linalg.det(F)))\n"
   ],
   "id": "cab3b2fa71311a17",
   "outputs": [
    {
     "name": "stdout",
     "output_type": "stream",
     "text": [
      "\n",
      "Property 6: Proportional columns → det = 0\n",
      "Determinant: 0\n"
     ]
    }
   ],
   "execution_count": 13
  },
  {
   "metadata": {},
   "cell_type": "markdown",
   "source": "## Property 7: Column/row sum split",
   "id": "14a5be06211a6335"
  },
  {
   "metadata": {
    "ExecuteTime": {
     "end_time": "2025-06-16T09:27:11.235106Z",
     "start_time": "2025-06-16T09:27:11.231538Z"
    }
   },
   "cell_type": "code",
   "source": [
    "A_prime = np.array([\n",
    "    [1, 1, 2],\n",
    "    [1, 3, 5],\n",
    "    [1, 0, 1]\n",
    "])\n",
    "A_double_prime = np.array([\n",
    "    [1, 1, 2],\n",
    "    [2, 3, 5],\n",
    "    [0, 0, 1]\n",
    "])\n",
    "# for example: Sum in the first column only.\n",
    "G = np.array([\n",
    "    [1 + 1, 1, 2],\n",
    "    [1 + 2, 3, 5],\n",
    "    [1 + 0, 0, 1]\n",
    "])\n",
    "print(\"\\nProperty 7: Splitting column into two parts\")\n",
    "print(\"det(A' + A''):\", round(np.linalg.det(G)))\n",
    "print(\"det(A') + det(A''):\", round(np.linalg.det(A_prime)) + round(np.linalg.det(A_double_prime)))"
   ],
   "id": "4d3e57d508303898",
   "outputs": [
    {
     "name": "stdout",
     "output_type": "stream",
     "text": [
      "\n",
      "Property 7: Splitting column into two parts\n",
      "det(A' + A''): 2\n",
      "det(A') + det(A''): 2\n"
     ]
    }
   ],
   "execution_count": 22
  },
  {
   "metadata": {},
   "cell_type": "markdown",
   "source": "## Property 8: Adding λ × row to another does not change det",
   "id": "799edf4157390f81"
  },
  {
   "metadata": {
    "ExecuteTime": {
     "end_time": "2025-06-16T09:19:17.764510Z",
     "start_time": "2025-06-16T09:19:17.762459Z"
    }
   },
   "cell_type": "code",
   "source": [
    "λ = 2\n",
    "H = A.copy()\n",
    "H[:, 0] = H[:, 0] + λ * H[:, 1]\n",
    "print(f\"\\nProperty 8: Add λ*col2 to col1 (λ={λ})\")\n",
    "print(\"New det:\", round(np.linalg.det(H)))\n",
    "print(\"Original det:\", round(np.linalg.det(A)))"
   ],
   "id": "320e1b2ce491661d",
   "outputs": [
    {
     "name": "stdout",
     "output_type": "stream",
     "text": [
      "\n",
      "Property 8: Add λ*col2 to col1 (λ=2)\n",
      "New det: 2\n",
      "Original det: 2\n"
     ]
    }
   ],
   "execution_count": 15
  },
  {
   "metadata": {},
   "cell_type": "markdown",
   "source": "## Property 9: Cofactor expansion",
   "id": "6171cb1a7f81d134"
  },
  {
   "metadata": {
    "ExecuteTime": {
     "end_time": "2025-06-16T09:19:51.604620Z",
     "start_time": "2025-06-16T09:19:51.600993Z"
    }
   },
   "cell_type": "code",
   "source": [
    "def minor(matrix, i, j):\n",
    "    sub_matrix = np.delete(np.delete(matrix, i, axis=0), j, axis=1)\n",
    "    return round(np.linalg.det(sub_matrix))\n",
    "\n",
    "def cofactor_expansion(matrix, row=0):\n",
    "    cofactors = []\n",
    "    for j in range(3):\n",
    "        sign = (-1) ** (row + j)\n",
    "        minor_det = minor(matrix, row, j)\n",
    "        cofactors.append(sign * matrix[row][j] * minor_det)\n",
    "    return sum(cofactors)\n",
    "\n",
    "print(\"\\nProperty 9: Expansion along the first row (cofactor)\")\n",
    "print(\"Cofactor expansion result:\", cofactor_expansion(A))\n",
    "print(\"Numpy det:\", round(np.linalg.det(A)))"
   ],
   "id": "2ad40c91694a08a2",
   "outputs": [
    {
     "name": "stdout",
     "output_type": "stream",
     "text": [
      "\n",
      "Property 9: Expansion along the first row (cofactor)\n",
      "Cofactor expansion result: 2\n",
      "Numpy det: 2\n"
     ]
    }
   ],
   "execution_count": 16
  },
  {
   "metadata": {},
   "cell_type": "markdown",
   "source": "## Property 10: Cross cofactor expansion = 0",
   "id": "15f8621024d555a7"
  },
  {
   "metadata": {
    "ExecuteTime": {
     "end_time": "2025-06-16T09:20:20.609202Z",
     "start_time": "2025-06-16T09:20:20.606468Z"
    }
   },
   "cell_type": "code",
   "source": [
    "# Sum of elements of col2 with cofactors of col1\n",
    "cofactor_1 = [\n",
    "    (-1)**(0+0) * minor(A, 0, 0),\n",
    "    (-1)**(1+0) * minor(A, 1, 0),\n",
    "    (-1)**(2+0) * minor(A, 2, 0)\n",
    "]\n",
    "sum_cross = A[0][1]*cofactor_1[0] + A[1][1]*cofactor_1[1] + A[2][1]*cofactor_1[2]\n",
    "print(\"\\nProperty 10: Cross-column expansion → should be 0\")\n",
    "print(\"Result:\", sum_cross)"
   ],
   "id": "e5bd0f8c236a7c87",
   "outputs": [
    {
     "name": "stdout",
     "output_type": "stream",
     "text": [
      "\n",
      "Property 10: Cross-column expansion → should be 0\n",
      "Result: 0\n"
     ]
    }
   ],
   "execution_count": 18
  }
 ],
 "metadata": {
  "kernelspec": {
   "display_name": "Python 3 (ipykernel)",
   "language": "python",
   "name": "python3"
  },
  "language_info": {
   "codemirror_mode": {
    "name": "ipython",
    "version": 3
   },
   "file_extension": ".py",
   "mimetype": "text/x-python",
   "name": "python",
   "nbconvert_exporter": "python",
   "pygments_lexer": "ipython3",
   "version": "3.12.4"
  },
  "widgets": {
   "application/vnd.jupyter.widget-state+json": {
    "state": {},
    "version_major": 2,
    "version_minor": 0
   }
  }
 },
 "nbformat": 4,
 "nbformat_minor": 5
}
