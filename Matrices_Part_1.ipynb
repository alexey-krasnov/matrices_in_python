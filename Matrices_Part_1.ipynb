{
 "cells": [
  {
   "cell_type": "markdown",
   "id": "229d88ee-054d-4d3f-be21-0d4b59a1d7a3",
   "metadata": {},
   "source": [
    "# Part I: This Notebook provides Python code snippets that exercise matrix properties: matrix addition, scalar multiplication, matrix multiplication, and the identity matrix.\n",
    "## This will utilize NumPy to handle matrix operations effectively"
   ]
  },
  {
   "cell_type": "code",
   "execution_count": 23,
   "id": "3dc2c3ad-df55-4f5e-a7d9-a1fa86f22c2c",
   "metadata": {},
   "outputs": [],
   "source": [
    "import numpy as np"
   ]
  },
  {
   "cell_type": "markdown",
   "id": "a8d19d1a-4d4c-4896-bd1f-fe3614474ffe",
   "metadata": {},
   "source": [
    "## Define matrices A and B for testing"
   ]
  },
  {
   "cell_type": "code",
   "execution_count": 24,
   "id": "3b532c2b-f094-4660-a8f4-a5e261cfb454",
   "metadata": {},
   "outputs": [
    {
     "name": "stdout",
     "output_type": "stream",
     "text": [
      "[[1 2 3]\n",
      " [4 5 6]\n",
      " [7 8 9]]\n",
      "\n",
      "[[9 8 7]\n",
      " [6 5 4]\n",
      " [3 2 1]]\n"
     ]
    }
   ],
   "source": [
    "# Matrix can be created by np.array()\n",
    "A = np.array([[1, 2, 3], [4, 5, 6], [7, 8, 9]])\n",
    "B = np.array([[9, 8, 7], [6, 5, 4], [3, 2, 1]])\n",
    "print(A)\n",
    "print()\n",
    "print(B)"
   ]
  },
  {
   "cell_type": "code",
   "execution_count": 29,
   "id": "a6e90ab0-7869-4bb7-a84a-45b46acad89f",
   "metadata": {},
   "outputs": [],
   "source": [
    "## Shape of matrices A and B"
   ]
  },
  {
   "cell_type": "code",
   "execution_count": 30,
   "id": "c3892725-ccc3-4d95-92a0-9ee531eb3dda",
   "metadata": {},
   "outputs": [
    {
     "data": {
      "text/plain": [
       "(3, 3)"
      ]
     },
     "execution_count": 30,
     "metadata": {},
     "output_type": "execute_result"
    }
   ],
   "source": [
    "A.shape"
   ]
  },
  {
   "cell_type": "code",
   "execution_count": 31,
   "id": "076d411d-59b0-4543-a7a3-951a910e016d",
   "metadata": {},
   "outputs": [
    {
     "data": {
      "text/plain": [
       "(3, 3)"
      ]
     },
     "execution_count": 31,
     "metadata": {},
     "output_type": "execute_result"
    }
   ],
   "source": [
    "B.shape"
   ]
  },
  {
   "cell_type": "markdown",
   "id": "b2f369bf-8576-4fe7-88c9-5abf61d03e9b",
   "metadata": {},
   "source": [
    "Both matrices have 3 raws and 3 columns"
   ]
  },
  {
   "cell_type": "markdown",
   "id": "46a50f48-318b-4102-99f2-bda1a8b3f3da",
   "metadata": {},
   "source": [
    "## Sum of two matrices (A + B)"
   ]
  },
  {
   "cell_type": "code",
   "execution_count": 11,
   "id": "2bd69a37-6fb0-4af9-b52a-106fbdf89cbc",
   "metadata": {},
   "outputs": [
    {
     "name": "stdout",
     "output_type": "stream",
     "text": [
      "Matrix Addition (A + B):\n",
      " [[10 10 10]\n",
      " [10 10 10]\n",
      " [10 10 10]]\n"
     ]
    }
   ],
   "source": [
    "C_sum = A + B\n",
    "print(\"Matrix Addition (A + B):\\n\", C_sum)"
   ]
  },
  {
   "cell_type": "markdown",
   "id": "450a95f2-6319-40be-9ee5-3e9abaa87879",
   "metadata": {},
   "source": [
    "## Difference of two matrices (A - B)"
   ]
  },
  {
   "cell_type": "code",
   "execution_count": 12,
   "id": "9f3e4410-77eb-4690-9fa9-ac200c337543",
   "metadata": {},
   "outputs": [
    {
     "name": "stdout",
     "output_type": "stream",
     "text": [
      "Matrix Difference (A - B):\n",
      " [[-8 -6 -4]\n",
      " [-2  0  2]\n",
      " [ 4  6  8]]\n"
     ]
    }
   ],
   "source": [
    "C_diff = A - B\n",
    "print(\"Matrix Difference (A - B):\\n\", C_diff)"
   ]
  },
  {
   "cell_type": "markdown",
   "id": "0a0a487b-a48f-4c78-a40c-9fa484b9b703",
   "metadata": {},
   "source": [
    "## Scalar multiplication (λ * A)"
   ]
  },
  {
   "cell_type": "code",
   "execution_count": 13,
   "id": "fe7d5b28-7639-47d7-8627-dfba89388091",
   "metadata": {},
   "outputs": [
    {
     "name": "stdout",
     "output_type": "stream",
     "text": [
      "Scalar Multiplication (2 * A):\n",
      " [[ 2  4  6]\n",
      " [ 8 10 12]\n",
      " [14 16 18]]\n"
     ]
    }
   ],
   "source": [
    "λ = 2\n",
    "C_scalar = λ * A\n",
    "print(f\"Scalar Multiplication ({λ} * A):\\n\", C_scalar)"
   ]
  },
  {
   "cell_type": "markdown",
   "id": "a780196d-fb10-439c-a3c3-c6a482214e80",
   "metadata": {},
   "source": [
    "## Matrix multiplication (A * B)\n",
    "### Note: Matrix multiplication requires A and B to have compatible dimensions"
   ]
  },
  {
   "cell_type": "code",
   "execution_count": 14,
   "id": "3279c45a-09c6-4397-8d88-0c3c24be78dd",
   "metadata": {},
   "outputs": [
    {
     "name": "stdout",
     "output_type": "stream",
     "text": [
      "Matrix Multiplication (A * B):\n",
      " [[ 30  24  18]\n",
      " [ 84  69  54]\n",
      " [138 114  90]]\n"
     ]
    }
   ],
   "source": [
    "C_product = np.dot(A, B)\n",
    "print(\"Matrix Multiplication (A * B):\\n\", C_product)"
   ]
  },
  {
   "cell_type": "markdown",
   "id": "2bdab6db-1e95-492c-b314-0924bd6d351f",
   "metadata": {},
   "source": [
    "## Properties of matrix multiplication\n",
    "### (A + B) * C == A * C + B * C\n",
    "### We define a new matrix C to validate this property."
   ]
  },
  {
   "cell_type": "code",
   "execution_count": 16,
   "id": "066051ef-6a34-48cb-914e-4e5bcc0a820e",
   "metadata": {},
   "outputs": [
    {
     "name": "stdout",
     "output_type": "stream",
     "text": [
      "Validation of (A + B) * C = A * C + B * C:\n",
      " [[ True  True  True]\n",
      " [ True  True  True]\n",
      " [ True  True  True]]\n"
     ]
    }
   ],
   "source": [
    "C = np.array([[1, 0, 1], [0, 1, 0], [1, 0, 1]])\n",
    "left_side = np.dot(A + B, C)\n",
    "right_side = np.dot(A, C) + np.dot(B, C)\n",
    "print(\"Validation of (A + B) * C = A * C + B * C:\\n\", left_side == right_side)"
   ]
  },
  {
   "cell_type": "markdown",
   "id": "ce6911df-ff55-4267-9fdf-498cc2b71b14",
   "metadata": {},
   "source": [
    "## Identity matrix multiplication\n",
    "### Define identity matrix E of same size as A"
   ]
  },
  {
   "cell_type": "code",
   "execution_count": 19,
   "id": "79552940-11de-4e3f-8a7c-3c9174c04f9d",
   "metadata": {},
   "outputs": [
    {
     "name": "stdout",
     "output_type": "stream",
     "text": [
      "Identity Matrix (E):\n",
      " [[1. 0. 0.]\n",
      " [0. 1. 0.]\n",
      " [0. 0. 1.]]\n",
      "\n",
      "E * A = A:\n",
      " [[1. 2. 3.]\n",
      " [4. 5. 6.]\n",
      " [7. 8. 9.]]\n",
      "\n",
      "A * E = A:\n",
      " [[1. 2. 3.]\n",
      " [4. 5. 6.]\n",
      " [7. 8. 9.]]\n",
      "\n",
      "Validation of E * A = A * E:\n",
      " [[ True  True  True]\n",
      " [ True  True  True]\n",
      " [ True  True  True]]\n"
     ]
    }
   ],
   "source": [
    "E = np.identity(3)\n",
    "E_A = np.dot(E, A)\n",
    "A_E = np.dot(A, E)\n",
    "print(\"Identity Matrix (E):\\n\", E)\n",
    "print(\"\\nE * A = A:\\n\", E_A)\n",
    "print(\"\\nA * E = A:\\n\", A_E)\n",
    "print(\"\\nValidation of E * A = A * E:\\n\", E_A == A_E)"
   ]
  }
 ],
 "metadata": {
  "kernelspec": {
   "display_name": "Python 3 (ipykernel)",
   "language": "python",
   "name": "python3"
  },
  "language_info": {
   "codemirror_mode": {
    "name": "ipython",
    "version": 3
   },
   "file_extension": ".py",
   "mimetype": "text/x-python",
   "name": "python",
   "nbconvert_exporter": "python",
   "pygments_lexer": "ipython3",
   "version": "3.12.4"
  },
  "widgets": {
   "application/vnd.jupyter.widget-state+json": {
    "state": {},
    "version_major": 2,
    "version_minor": 0
   }
  }
 },
 "nbformat": 4,
 "nbformat_minor": 5
}
